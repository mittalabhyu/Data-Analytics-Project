{
 "cells": [
  {
   "cell_type": "markdown",
   "metadata": {},
   "source": [
    "Read the pandas module"
   ]
  },
  {
   "cell_type": "code",
   "execution_count": 9,
   "metadata": {},
   "outputs": [],
   "source": [
    "import pandas as pd\n",
    "import os"
   ]
  },
  {
   "cell_type": "markdown",
   "metadata": {},
   "source": [
    "Load the excel data given in the assignment into a DataFrame"
   ]
  },
  {
   "cell_type": "code",
   "execution_count": 10,
   "metadata": {},
   "outputs": [],
   "source": [
    "path=os.getcwd()\n",
    "file='/online_course.xlsx'\n",
    "data=pd.read_excel(path+file)"
   ]
  },
  {
   "cell_type": "markdown",
   "metadata": {},
   "source": [
    "Display the first 5 rows in the DataFrame"
   ]
  },
  {
   "cell_type": "code",
   "execution_count": 11,
   "metadata": {},
   "outputs": [
    {
     "data": {
      "text/html": [
       "<div>\n",
       "<style scoped>\n",
       "    .dataframe tbody tr th:only-of-type {\n",
       "        vertical-align: middle;\n",
       "    }\n",
       "\n",
       "    .dataframe tbody tr th {\n",
       "        vertical-align: top;\n",
       "    }\n",
       "\n",
       "    .dataframe thead th {\n",
       "        text-align: right;\n",
       "    }\n",
       "</style>\n",
       "<table border=\"1\" class=\"dataframe\">\n",
       "  <thead>\n",
       "    <tr style=\"text-align: right;\">\n",
       "      <th></th>\n",
       "      <th>Institution</th>\n",
       "      <th>Course Title</th>\n",
       "      <th>Course Subject</th>\n",
       "      <th>Participants (Course Content Accessed)</th>\n",
       "      <th>Certified</th>\n",
       "      <th>% Certified</th>\n",
       "      <th>% Grade Higher Than Zero</th>\n",
       "      <th>Total Course Hours (Thousands)</th>\n",
       "      <th>% Male</th>\n",
       "      <th>% Female</th>\n",
       "      <th>% Bachelor's Degree or Higher</th>\n",
       "    </tr>\n",
       "  </thead>\n",
       "  <tbody>\n",
       "    <tr>\n",
       "      <th>0</th>\n",
       "      <td>MITx</td>\n",
       "      <td>Circuits and Electronics</td>\n",
       "      <td>Science, Technology, Engineering, and Mathematics</td>\n",
       "      <td>36105</td>\n",
       "      <td>3003</td>\n",
       "      <td>8.32</td>\n",
       "      <td>28.97</td>\n",
       "      <td>418.94</td>\n",
       "      <td>88.28</td>\n",
       "      <td>11.72</td>\n",
       "      <td>60.68</td>\n",
       "    </tr>\n",
       "    <tr>\n",
       "      <th>1</th>\n",
       "      <td>MITx</td>\n",
       "      <td>Introduction to Computer Science and Programming</td>\n",
       "      <td>Computer Science</td>\n",
       "      <td>62709</td>\n",
       "      <td>5783</td>\n",
       "      <td>9.22</td>\n",
       "      <td>39.50</td>\n",
       "      <td>884.04</td>\n",
       "      <td>83.50</td>\n",
       "      <td>16.50</td>\n",
       "      <td>63.04</td>\n",
       "    </tr>\n",
       "    <tr>\n",
       "      <th>2</th>\n",
       "      <td>MITx</td>\n",
       "      <td>Introduction to Solid State Chemistry</td>\n",
       "      <td>Science, Technology, Engineering, and Mathematics</td>\n",
       "      <td>16663</td>\n",
       "      <td>2082</td>\n",
       "      <td>12.49</td>\n",
       "      <td>34.89</td>\n",
       "      <td>227.55</td>\n",
       "      <td>70.32</td>\n",
       "      <td>29.68</td>\n",
       "      <td>58.76</td>\n",
       "    </tr>\n",
       "    <tr>\n",
       "      <th>3</th>\n",
       "      <td>HarvardX</td>\n",
       "      <td>Introduction to Computer Science</td>\n",
       "      <td>Computer Science</td>\n",
       "      <td>129400</td>\n",
       "      <td>1439</td>\n",
       "      <td>1.11</td>\n",
       "      <td>1.11</td>\n",
       "      <td>220.90</td>\n",
       "      <td>80.02</td>\n",
       "      <td>19.98</td>\n",
       "      <td>58.78</td>\n",
       "    </tr>\n",
       "    <tr>\n",
       "      <th>4</th>\n",
       "      <td>HarvardX</td>\n",
       "      <td>Health in Numbers: Quantitative Methods in Cli...</td>\n",
       "      <td>Government, Health, and Social Science</td>\n",
       "      <td>52521</td>\n",
       "      <td>5058</td>\n",
       "      <td>9.64</td>\n",
       "      <td>32.52</td>\n",
       "      <td>804.41</td>\n",
       "      <td>56.78</td>\n",
       "      <td>43.22</td>\n",
       "      <td>88.33</td>\n",
       "    </tr>\n",
       "  </tbody>\n",
       "</table>\n",
       "</div>"
      ],
      "text/plain": [
       "  Institution                                       Course Title  \\\n",
       "0        MITx                           Circuits and Electronics   \n",
       "1        MITx   Introduction to Computer Science and Programming   \n",
       "2        MITx              Introduction to Solid State Chemistry   \n",
       "3    HarvardX                   Introduction to Computer Science   \n",
       "4    HarvardX  Health in Numbers: Quantitative Methods in Cli...   \n",
       "\n",
       "                                      Course Subject  \\\n",
       "0  Science, Technology, Engineering, and Mathematics   \n",
       "1                                   Computer Science   \n",
       "2  Science, Technology, Engineering, and Mathematics   \n",
       "3                                   Computer Science   \n",
       "4             Government, Health, and Social Science   \n",
       "\n",
       "   Participants (Course Content Accessed)  Certified  % Certified  \\\n",
       "0                                   36105       3003         8.32   \n",
       "1                                   62709       5783         9.22   \n",
       "2                                   16663       2082        12.49   \n",
       "3                                  129400       1439         1.11   \n",
       "4                                   52521       5058         9.64   \n",
       "\n",
       "   % Grade Higher Than Zero  Total Course Hours (Thousands)  % Male  % Female  \\\n",
       "0                     28.97                          418.94   88.28     11.72   \n",
       "1                     39.50                          884.04   83.50     16.50   \n",
       "2                     34.89                          227.55   70.32     29.68   \n",
       "3                      1.11                          220.90   80.02     19.98   \n",
       "4                     32.52                          804.41   56.78     43.22   \n",
       "\n",
       "   % Bachelor's Degree or Higher  \n",
       "0                          60.68  \n",
       "1                          63.04  \n",
       "2                          58.76  \n",
       "3                          58.78  \n",
       "4                          88.33  "
      ]
     },
     "execution_count": 11,
     "metadata": {},
     "output_type": "execute_result"
    }
   ],
   "source": [
    "data.head()"
   ]
  },
  {
   "cell_type": "markdown",
   "metadata": {},
   "source": [
    "Which of the institutions has created more number of Courses?"
   ]
  },
  {
   "cell_type": "code",
   "execution_count": 7,
   "metadata": {},
   "outputs": [
    {
     "data": {
      "text/plain": [
       "'MITx'"
      ]
     },
     "execution_count": 7,
     "metadata": {},
     "output_type": "execute_result"
    }
   ],
   "source": [
    "data.Institution.max()"
   ]
  },
  {
   "cell_type": "markdown",
   "metadata": {},
   "source": [
    "Which subject has the maximum number of online courses?"
   ]
  },
  {
   "cell_type": "code",
   "execution_count": 5,
   "metadata": {},
   "outputs": [
    {
     "name": "stdout",
     "output_type": "stream",
     "text": [
      "Humanities, History, Design, Religion, and Education\n"
     ]
    }
   ],
   "source": [
    "l=list(data['Course Subject'])\n",
    "m=0\n",
    "r=l[0]\n",
    "for i in l:\n",
    "    f=l.count(i)\n",
    "    if f>m:\n",
    "        m=f\n",
    "        r=i\n",
    "print(r)"
   ]
  },
  {
   "cell_type": "markdown",
   "metadata": {},
   "source": [
    "What are the Mean course hours?"
   ]
  },
  {
   "cell_type": "code",
   "execution_count": 6,
   "metadata": {},
   "outputs": [
    {
     "data": {
      "text/plain": [
       "94.9818275862069"
      ]
     },
     "execution_count": 6,
     "metadata": {},
     "output_type": "execute_result"
    }
   ],
   "source": [
    "data['Total Course Hours (Thousands)'].mean()"
   ]
  },
  {
   "cell_type": "markdown",
   "metadata": {},
   "source": [
    "What are the Median course hours?"
   ]
  },
  {
   "cell_type": "code",
   "execution_count": 7,
   "metadata": {},
   "outputs": [
    {
     "data": {
      "text/plain": [
       "37.71"
      ]
     },
     "execution_count": 7,
     "metadata": {},
     "output_type": "execute_result"
    }
   ],
   "source": [
    "data['Total Course Hours (Thousands)'].median()"
   ]
  },
  {
   "cell_type": "markdown",
   "metadata": {},
   "source": [
    "Create a bar plot of the course subjects"
   ]
  },
  {
   "cell_type": "code",
   "execution_count": 8,
   "metadata": {},
   "outputs": [
    {
     "data": {
      "text/plain": [
       "<matplotlib.axes._subplots.AxesSubplot at 0x1a969453208>"
      ]
     },
     "execution_count": 8,
     "metadata": {},
     "output_type": "execute_result"
    },
    {
     "data": {
      "image/png": "[encoded data removed]",
      "text/plain": [
       "<Figure size 432x288 with 1 Axes>"
      ]
     },
     "metadata": {
      "needs_background": "light"
     },
     "output_type": "display_data"
    }
   ],
   "source": [
    "%matplotlib inline\n",
    "data['Course Subject'].value_counts().plot.bar()"
   ]
  },
  {
   "cell_type": "markdown",
   "metadata": {},
   "source": [
    "What is the Highest % of Female Students across any course?"
   ]
  },
  {
   "cell_type": "code",
   "execution_count": 9,
   "metadata": {},
   "outputs": [
    {
     "data": {
      "text/plain": [
       "74.76"
      ]
     },
     "execution_count": 9,
     "metadata": {},
     "output_type": "execute_result"
    }
   ],
   "source": [
    "data['% Female'].max()"
   ]
  },
  {
   "cell_type": "markdown",
   "metadata": {},
   "source": [
    "Create a Histogram of Course Hours to study the course trends. "
   ]
  },
  {
   "cell_type": "code",
   "execution_count": 10,
   "metadata": {},
   "outputs": [
    {
     "data": {
      "text/plain": [
       "<matplotlib.axes._subplots.AxesSubplot at 0x1a96a059b08>"
      ]
     },
     "execution_count": 10,
     "metadata": {},
     "output_type": "execute_result"
    },
    {
     "data": {
      "image/png": "[encoded data removed]",
      "text/plain": [
       "<Figure size 432x288 with 1 Axes>"
      ]
     },
     "metadata": {
      "needs_background": "light"
     },
     "output_type": "display_data"
    }
   ],
   "source": [
    "data['Total Course Hours (Thousands)'].plot.hist()"
   ]
  },
  {
   "cell_type": "markdown",
   "metadata": {},
   "source": [
    "What is the lowest number of participants enrolled across any course?"
   ]
  },
  {
   "cell_type": "code",
   "execution_count": 11,
   "metadata": {},
   "outputs": [
    {
     "data": {
      "text/plain": [
       "322"
      ]
     },
     "execution_count": 11,
     "metadata": {},
     "output_type": "execute_result"
    }
   ],
   "source": [
    "data['Participants (Course Content Accessed)'].min()"
   ]
  },
  {
   "cell_type": "markdown",
   "metadata": {},
   "source": [
    "What is the lowest number of certified students across any course?"
   ]
  },
  {
   "cell_type": "code",
   "execution_count": 12,
   "metadata": {},
   "outputs": [
    {
     "data": {
      "text/plain": [
       "0"
      ]
     },
     "execution_count": 12,
     "metadata": {},
     "output_type": "execute_result"
    }
   ],
   "source": [
    "data['Certified'].min()"
   ]
  },
  {
   "cell_type": "markdown",
   "metadata": {},
   "source": [
    "What is the average % of Bachelor's Degree holders registered in any course?"
   ]
  },
  {
   "cell_type": "code",
   "execution_count": 15,
   "metadata": {},
   "outputs": [
    {
     "name": "stdout",
     "output_type": "stream",
     "text": [
      "72.07872413793103\n"
     ]
    }
   ],
   "source": [
    "s=data[\"% Bachelor's Degree or Higher\"].sum()\n",
    "n=data[\"% Bachelor's Degree or Higher\"].count()\n",
    "print(s/n)"
   ]
  },
  {
   "cell_type": "markdown",
   "metadata": {},
   "source": [
    "What is the median of the column '% Grade Higher Than Zero'?\n",
    "What do you think this number means?"
   ]
  },
  {
   "cell_type": "code",
   "execution_count": 13,
   "metadata": {},
   "outputs": [
    {
     "data": {
      "text/plain": [
       "19.605"
      ]
     },
     "execution_count": 13,
     "metadata": {},
     "output_type": "execute_result"
    }
   ],
   "source": [
    "data['% Grade Higher Than Zero'].median()"
   ]
  },
  {
   "cell_type": "code",
   "execution_count": 14,
   "metadata": {},
   "outputs": [
    {
     "name": "stdout",
     "output_type": "stream",
     "text": [
      "Median is the middle term in a series arranged in assending or descending order\n"
     ]
    }
   ],
   "source": [
    "print(\"Median is the middle term in a series arranged in assending or descending order\")"
   ]
  },
  {
   "cell_type": "code",
   "execution_count": null,
   "metadata": {},
   "outputs": [],
   "source": []
  }
 ],
 "metadata": {
  "kernelspec": {
   "display_name": "Python 3",
   "language": "python",
   "name": "python3"
  },
  "language_info": {
   "codemirror_mode": {
    "name": "ipython",
    "version": 3
   },
   "file_extension": ".py",
   "mimetype": "text/x-python",
   "name": "python",
   "nbconvert_exporter": "python",
   "pygments_lexer": "ipython3",
   "version": "3.7.6"
  }
 },
 "nbformat": 4,
 "nbformat_minor": 2
}
