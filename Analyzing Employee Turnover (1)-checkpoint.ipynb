{
 "cells": [
  {
   "cell_type": "markdown",
   "metadata": {},
   "source": [
    "# Analyzing Employee Turnover"
   ]
  },
  {
   "cell_type": "markdown",
   "metadata": {},
   "source": [
    "import the pandas module"
   ]
  },
  {
   "cell_type": "code",
   "execution_count": 3,
   "metadata": {},
   "outputs": [],
   "source": [
    "import pandas as pd\n",
    "import os"
   ]
  },
  {
   "cell_type": "markdown",
   "metadata": {},
   "source": [
    "Create path and file variables"
   ]
  },
  {
   "cell_type": "code",
   "execution_count": 4,
   "metadata": {},
   "outputs": [],
   "source": [
    "path=os.getcwd()\n",
    "file='/employee_turnover.csv'"
   ]
  },
  {
   "cell_type": "markdown",
   "metadata": {},
   "source": [
    "Load the file into a DataFrame called 'data'"
   ]
  },
  {
   "cell_type": "code",
   "execution_count": 5,
   "metadata": {},
   "outputs": [],
   "source": [
    "data=pd.read_csv(path+file)"
   ]
  },
  {
   "cell_type": "markdown",
   "metadata": {},
   "source": [
    "Although there is a difference between Attrition and Turnover, these terms are used interchangeably\n",
    "\n",
    "Attrition is a more popular choice of word than turnover(sounds fancier)\n",
    "\n",
    "<b>Attrition Rate = No. of Employees that Left Workforce / Average No. of Employees</b>"
   ]
  },
  {
   "cell_type": "markdown",
   "metadata": {},
   "source": [
    "<i>For the purpose of this case study average no of employees is the same as the total number of employees"
   ]
  },
  {
   "cell_type": "markdown",
   "metadata": {},
   "source": [
    "What is the attrition rate of this company?"
   ]
  },
  {
   "cell_type": "code",
   "execution_count": 6,
   "metadata": {},
   "outputs": [
    {
     "name": "stdout",
     "output_type": "stream",
     "text": [
      "Attrition Rate :  0.16122448979591836\n"
     ]
    }
   ],
   "source": [
    "l=list(data['Attrition'])\n",
    "c=0\n",
    "n=len(l)\n",
    "for i in l:\n",
    "    if i=='Yes':\n",
    "        c=c+1\n",
    "Attrition_rate=c/n\n",
    "print(\"Attrition Rate : \",Attrition_rate)\n"
   ]
  },
  {
   "cell_type": "markdown",
   "metadata": {},
   "source": [
    "What is the average monthly income of all the employees in the company?"
   ]
  },
  {
   "cell_type": "code",
   "execution_count": 8,
   "metadata": {},
   "outputs": [
    {
     "name": "stdout",
     "output_type": "stream",
     "text": [
      "average salary is :  6502.931292517007\n"
     ]
    }
   ],
   "source": [
    "l=list(data['MonthlyIncome'])\n",
    "n=len(l)\n",
    "s=0\n",
    "for i in l:\n",
    "    s=s+i\n",
    "avg=s/n\n",
    "print(\"average salary is : \",avg)"
   ]
  },
  {
   "cell_type": "markdown",
   "metadata": {},
   "source": [
    "<b>Copy and Paste this line of code into your cell:</b>\n",
    " \n",
    "<br><i>attrition_true=data[data['Attrition']=='Yes']</i>\n",
    "\n",
    "<br> This will create a list of all people who are still with the company"
   ]
  },
  {
   "cell_type": "code",
   "execution_count": 6,
   "metadata": {},
   "outputs": [],
   "source": [
    "attrition_true=data[data['Attrition']=='Yes']"
   ]
  },
  {
   "cell_type": "markdown",
   "metadata": {},
   "source": [
    "What is the most popular rating in the attrition_true dataset?"
   ]
  },
  {
   "cell_type": "code",
   "execution_count": 7,
   "metadata": {},
   "outputs": [
    {
     "name": "stdout",
     "output_type": "stream",
     "text": [
      "most popular rating :  813\n"
     ]
    }
   ],
   "source": [
    "l=list(attrition_true['DailyRate'])\n",
    "res=l[0]\n",
    "max=0\n",
    "for i in l:\n",
    "    freq=l.count(i)\n",
    "    if freq>max:\n",
    "        max=freq\n",
    "        res=i\n",
    "print(\"most popular rating : \",res)"
   ]
  },
  {
   "cell_type": "markdown",
   "metadata": {},
   "source": [
    "<b>Copy and Paste this line of code into your cell:</b>\n",
    " \n",
    "<br><i>attrition_false=data[data['Attrition']=='No']</i>\n",
    "\n",
    "<br> This will create a list of all people who are still with the company"
   ]
  },
  {
   "cell_type": "code",
   "execution_count": 8,
   "metadata": {},
   "outputs": [],
   "source": [
    "attrition_false=data[data['Attrition']=='No']"
   ]
  },
  {
   "cell_type": "markdown",
   "metadata": {},
   "source": [
    "What is the most common Job Satisfaction rating for people still working at the company?"
   ]
  },
  {
   "cell_type": "code",
   "execution_count": 9,
   "metadata": {},
   "outputs": [
    {
     "name": "stdout",
     "output_type": "stream",
     "text": [
      "most common job satisfaction rating :  4\n"
     ]
    }
   ],
   "source": [
    "l=list(attrition_false['JobSatisfaction'])\n",
    "res=l[0]\n",
    "max=0\n",
    "for i in l:\n",
    "    freq=l.count(i)\n",
    "    if freq>max:\n",
    "        max=freq\n",
    "        res=i\n",
    "print(\"most common job satisfaction rating : \",res)"
   ]
  },
  {
   "cell_type": "markdown",
   "metadata": {},
   "source": [
    "Are more females attriting compared to males?"
   ]
  },
  {
   "cell_type": "code",
   "execution_count": 10,
   "metadata": {},
   "outputs": [
    {
     "name": "stdout",
     "output_type": "stream",
     "text": [
      "No\n"
     ]
    }
   ],
   "source": [
    "l=list(attrition_true['Gender'])\n",
    "m=l.count('Male')\n",
    "f=l.count('Female')\n",
    "if m>f:\n",
    "    print(\"No\")\n",
    "else:\n",
    "    print(\"Yes\")"
   ]
  },
  {
   "cell_type": "markdown",
   "metadata": {},
   "source": [
    "a) What is the male to female ratio in the people who are still working at the company?\n",
    "<br>\n",
    "b) What inference can you draw from this?"
   ]
  },
  {
   "cell_type": "code",
   "execution_count": 11,
   "metadata": {},
   "outputs": [
    {
     "name": "stdout",
     "output_type": "stream",
     "text": [
      "1.4610778443113772\n",
      "More male\n"
     ]
    }
   ],
   "source": [
    "l=list(attrition_false['Gender'])\n",
    "m=l.count('Male')\n",
    "f=l.count('Female')\n",
    "r=m/f\n",
    "print(r)\n",
    "if r>1:\n",
    "    print(\"More male\")\n",
    "elif r<1:\n",
    "    print(\"More female\")\n",
    "else:\n",
    "    print(\"Equal\")"
   ]
  },
  {
   "cell_type": "markdown",
   "metadata": {},
   "source": [
    "Is it true that unmarried people tend to attrite more often than married people?\n",
    "\n",
    "Find out...\n",
    "\n",
    "<b>Hint</b> : Use the 'MaritalStatus' column with 'value_counts'!"
   ]
  },
  {
   "cell_type": "code",
   "execution_count": 17,
   "metadata": {},
   "outputs": [
    {
     "name": "stdout",
     "output_type": "stream",
     "text": [
      "Attired\n",
      "Single      120\n",
      "Married      84\n",
      "Divorced     33\n",
      "Name: MaritalStatus, dtype: int64\n",
      "Not Attired\n",
      "Married     589\n",
      "Single      350\n",
      "Divorced    294\n",
      "Name: MaritalStatus, dtype: int64\n"
     ]
    }
   ],
   "source": [
    "\n",
    "r=attrition_false.MaritalStatus.value_counts()\n",
    "s=attrition_true.MaritalStatus.value_counts()\n",
    "print(\"Attired\")\n",
    "print(s)\n",
    "print(\"Not Attired\")\n",
    "print(r)\n"
   ]
  },
  {
   "cell_type": "markdown",
   "metadata": {},
   "source": [
    "Is Overtime a common factor for attrition?\n",
    "<ul>Use value_counts() function on 'OverTime' column for both datasets to find out!"
   ]
  },
  {
   "cell_type": "code",
   "execution_count": 32,
   "metadata": {},
   "outputs": [
    {
     "name": "stdout",
     "output_type": "stream",
     "text": [
      "Attired\n",
      "Yes    127\n",
      "No     110\n",
      "Name: OverTime, dtype: int64\n",
      "Not Attired\n",
      "No     944\n",
      "Yes    289\n",
      "Name: OverTime, dtype: int64\n"
     ]
    }
   ],
   "source": [
    "\n",
    "r=attrition_false.OverTime.value_counts()\n",
    "s=attrition_true.OverTime.value_counts()\n",
    "print(\"Attired\")\n",
    "print(s)\n",
    "print(\"Not Attired\")\n",
    "print(r)"
   ]
  },
  {
   "cell_type": "code",
   "execution_count": 33,
   "metadata": {},
   "outputs": [
    {
     "name": "stdout",
     "output_type": "stream",
     "text": [
      "Since yes >no in attired so yes overtime is a factor\n"
     ]
    }
   ],
   "source": [
    "print(\"Since yes >no in attired so yes overtime is a factor\")"
   ]
  },
  {
   "cell_type": "code",
   "execution_count": null,
   "metadata": {},
   "outputs": [],
   "source": []
  },
  {
   "cell_type": "code",
   "execution_count": null,
   "metadata": {},
   "outputs": [],
   "source": []
  },
  {
   "cell_type": "code",
   "execution_count": null,
   "metadata": {},
   "outputs": [],
   "source": []
  },
  {
   "cell_type": "code",
   "execution_count": null,
   "metadata": {},
   "outputs": [],
   "source": []
  },
  {
   "cell_type": "code",
   "execution_count": null,
   "metadata": {},
   "outputs": [],
   "source": []
  },
  {
   "cell_type": "code",
   "execution_count": null,
   "metadata": {},
   "outputs": [],
   "source": []
  },
  {
   "cell_type": "code",
   "execution_count": null,
   "metadata": {},
   "outputs": [],
   "source": []
  }
 ],
 "metadata": {
  "kernelspec": {
   "display_name": "Python 3",
   "language": "python",
   "name": "python3"
  },
  "language_info": {
   "codemirror_mode": {
    "name": "ipython",
    "version": 3
   },
   "file_extension": ".py",
   "mimetype": "text/x-python",
   "name": "python",
   "nbconvert_exporter": "python",
   "pygments_lexer": "ipython3",
   "version": "3.7.6"
  }
 },
 "nbformat": 4,
 "nbformat_minor": 2
}
